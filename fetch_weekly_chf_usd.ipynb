{
 "cells": [
  {
   "cell_type": "code",
   "execution_count": 2,
   "id": "c6f37d3d",
   "metadata": {},
   "outputs": [],
   "source": [
    "import pandas as pd\n",
    "import yfinance as yf\n",
    "import datetime as dt\n"
   ]
  },
  {
   "cell_type": "code",
   "execution_count": 17,
   "id": "f8f2fec0",
   "metadata": {},
   "outputs": [],
   "source": [
    "symbol = \"CHFUSD=X\"\n",
    "interval = '1mo'\n",
    "period = '3y'"
   ]
  },
  {
   "cell_type": "code",
   "execution_count": 18,
   "id": "f2a0c9df",
   "metadata": {},
   "outputs": [
    {
     "name": "stderr",
     "output_type": "stream",
     "text": [
      "[*********************100%***********************]  1 of 1 completed\n",
      "\n"
     ]
    }
   ],
   "source": [
    "df_weekly = yf.download(symbol, interval=interval, period=period)\n",
    "df_weekly = df_weekly.sort_index(ascending=False)"
   ]
  },
  {
   "cell_type": "code",
   "execution_count": 19,
   "id": "dbd89118",
   "metadata": {},
   "outputs": [
    {
     "data": {
      "text/html": [
       "<div>\n",
       "<style scoped>\n",
       "    .dataframe tbody tr th:only-of-type {\n",
       "        vertical-align: middle;\n",
       "    }\n",
       "\n",
       "    .dataframe tbody tr th {\n",
       "        vertical-align: top;\n",
       "    }\n",
       "\n",
       "    .dataframe thead tr th {\n",
       "        text-align: left;\n",
       "    }\n",
       "\n",
       "    .dataframe thead tr:last-of-type th {\n",
       "        text-align: right;\n",
       "    }\n",
       "</style>\n",
       "<table border=\"1\" class=\"dataframe\">\n",
       "  <thead>\n",
       "    <tr>\n",
       "      <th>Price</th>\n",
       "      <th>Close</th>\n",
       "      <th>High</th>\n",
       "      <th>Low</th>\n",
       "      <th>Open</th>\n",
       "      <th>Volume</th>\n",
       "    </tr>\n",
       "    <tr>\n",
       "      <th>Ticker</th>\n",
       "      <th>CHFUSD=X</th>\n",
       "      <th>CHFUSD=X</th>\n",
       "      <th>CHFUSD=X</th>\n",
       "      <th>CHFUSD=X</th>\n",
       "      <th>CHFUSD=X</th>\n",
       "    </tr>\n",
       "    <tr>\n",
       "      <th>Date</th>\n",
       "      <th></th>\n",
       "      <th></th>\n",
       "      <th></th>\n",
       "      <th></th>\n",
       "      <th></th>\n",
       "    </tr>\n",
       "  </thead>\n",
       "  <tbody>\n",
       "    <tr>\n",
       "      <th>2025-07-01</th>\n",
       "      <td>1.248642</td>\n",
       "      <td>1.270002</td>\n",
       "      <td>1.240649</td>\n",
       "      <td>1.261479</td>\n",
       "      <td>0</td>\n",
       "    </tr>\n",
       "    <tr>\n",
       "      <th>2025-06-01</th>\n",
       "      <td>1.252740</td>\n",
       "      <td>1.259763</td>\n",
       "      <td>1.212386</td>\n",
       "      <td>1.216848</td>\n",
       "      <td>0</td>\n",
       "    </tr>\n",
       "    <tr>\n",
       "      <th>2025-05-01</th>\n",
       "      <td>1.216307</td>\n",
       "      <td>1.221449</td>\n",
       "      <td>1.180178</td>\n",
       "      <td>1.210712</td>\n",
       "      <td>0</td>\n",
       "    </tr>\n",
       "    <tr>\n",
       "      <th>2025-04-01</th>\n",
       "      <td>1.214447</td>\n",
       "      <td>1.239587</td>\n",
       "      <td>1.130199</td>\n",
       "      <td>1.131452</td>\n",
       "      <td>0</td>\n",
       "    </tr>\n",
       "    <tr>\n",
       "      <th>2025-03-01</th>\n",
       "      <td>1.135267</td>\n",
       "      <td>1.142074</td>\n",
       "      <td>1.107265</td>\n",
       "      <td>1.107265</td>\n",
       "      <td>0</td>\n",
       "    </tr>\n",
       "  </tbody>\n",
       "</table>\n",
       "</div>"
      ],
      "text/plain": [
       "Price          Close      High       Low      Open   Volume\n",
       "Ticker      CHFUSD=X  CHFUSD=X  CHFUSD=X  CHFUSD=X CHFUSD=X\n",
       "Date                                                       \n",
       "2025-07-01  1.248642  1.270002  1.240649  1.261479        0\n",
       "2025-06-01  1.252740  1.259763  1.212386  1.216848        0\n",
       "2025-05-01  1.216307  1.221449  1.180178  1.210712        0\n",
       "2025-04-01  1.214447  1.239587  1.130199  1.131452        0\n",
       "2025-03-01  1.135267  1.142074  1.107265  1.107265        0"
      ]
     },
     "execution_count": 19,
     "metadata": {},
     "output_type": "execute_result"
    }
   ],
   "source": [
    "df_weekly.head()"
   ]
  },
  {
   "cell_type": "code",
   "execution_count": 14,
   "id": "44f43174",
   "metadata": {},
   "outputs": [
    {
     "name": "stderr",
     "output_type": "stream",
     "text": [
      "[*********************100%***********************]  1 of 1 completed"
     ]
    },
    {
     "name": "stdout",
     "output_type": "stream",
     "text": [
      "                open      high       low     close  volume\n",
      "Date                                                      \n",
      "2025-06-20  1.231200  1.236400  1.217374  1.224905       0\n",
      "2025-06-27  1.222868  1.256266  1.220465  1.248611       0\n",
      "2025-07-04  1.252740  1.270002  1.251048  1.259287       0\n",
      "2025-07-11  1.259382  1.262945  1.251016  1.255146       0\n",
      "2025-07-18  1.255036  1.257624  1.240649  1.248642       0\n"
     ]
    },
    {
     "name": "stderr",
     "output_type": "stream",
     "text": [
      "\n"
     ]
    }
   ],
   "source": [
    "\n",
    "symbol = \"CHFUSD=X\"\n",
    "df = yf.download(symbol, period=\"3y\", interval=\"1d\")\n",
    "df.index = pd.to_datetime(df.index)\n",
    "\n",
    "# Flatten columns\n",
    "df.columns = df.columns.get_level_values(0)\n",
    "\n",
    "# Resample by week ending Fri\n",
    "weekly = df.resample(\"W-FRI\").agg(\n",
    "    open=(\"Open\", \"first\"),\n",
    "    high=(\"High\", \"max\"),\n",
    "    low=(\"Low\", \"min\"),\n",
    "    close=(\"Close\", \"last\"),\n",
    "    volume=(\"Volume\", \"sum\")\n",
    ")\n",
    "\n",
    "print(weekly.tail())"
   ]
  },
  {
   "cell_type": "code",
   "execution_count": 16,
   "id": "6887c9d6",
   "metadata": {},
   "outputs": [
    {
     "name": "stderr",
     "output_type": "stream",
     "text": [
      "[*********************100%***********************]  1 of 1 completed"
     ]
    },
    {
     "name": "stdout",
     "output_type": "stream",
     "text": [
      "Friday close (2025-07-18): Ticker\n",
      "CHFUSD=X    1.248642\n",
      "Name: 2025-07-18 00:00:00, dtype: float64\n"
     ]
    },
    {
     "name": "stderr",
     "output_type": "stream",
     "text": [
      "\n"
     ]
    }
   ],
   "source": [
    "symbol = \"CHFUSD=X\"\n",
    "df = yf.download(symbol, period=\"3y\", interval=\"1d\")\n",
    "df.index = pd.to_datetime(df.index)\n",
    "\n",
    "today = pd.Timestamp(dt.datetime.now().date())\n",
    "weekday = today.weekday()\n",
    "\n",
    "if weekday == 0 and today in df.index:\n",
    "    price = df.loc[today, \"Open\"]\n",
    "    source = f\"Monday open ({today.date()})\"\n",
    "else:\n",
    "    last_friday = today - pd.offsets.Week(weekday=4)\n",
    "    if last_friday not in df.index:\n",
    "        last_friday = df.index[df.index <= last_friday].max()\n",
    "    price = df.loc[last_friday, \"Close\"]\n",
    "    source = f\"Friday close ({last_friday.date()})\"\n",
    "\n",
    "print(f\"{source}: {price}\")"
   ]
  },
  {
   "cell_type": "code",
   "execution_count": 5,
   "id": "6fcfac53",
   "metadata": {},
   "outputs": [
    {
     "name": "stderr",
     "output_type": "stream",
     "text": [
      "[*********************100%***********************]  1 of 1 completed"
     ]
    },
    {
     "name": "stdout",
     "output_type": "stream",
     "text": [
      "Price           Open      High       Low     Close  Volume\n",
      "Date                                                      \n",
      "2025-06-23  1.228939  1.231830  1.217374  1.222868       0\n",
      "2025-06-30  1.230648  1.259763  1.230058  1.252740       0\n",
      "2025-07-07  1.261479  1.270002  1.252223  1.259382       0\n",
      "2025-07-14  1.254453  1.262945  1.251016  1.255036       0\n",
      "2025-07-21  1.253337  1.257624  1.240649  1.249453       0\n"
     ]
    },
    {
     "name": "stderr",
     "output_type": "stream",
     "text": [
      "\n"
     ]
    }
   ],
   "source": [
    "df3 = yf.download(\"CHFUSD=X\", period=\"3mo\", interval=\"1d\")\n",
    "df3.columns = df3.columns.get_level_values(0)\n",
    "df3.index = pd.to_datetime(df3.index)\n",
    "\n",
    "weekly = df3.resample(\"W-MON\").agg({\n",
    "    \"Open\": \"first\",\n",
    "    \"High\": \"max\",\n",
    "    \"Low\": \"min\",\n",
    "    \"Close\": \"last\",\n",
    "    \"Volume\": \"sum\"\n",
    "})\n",
    "\n",
    "print(weekly.tail())"
   ]
  },
  {
   "cell_type": "code",
   "execution_count": 10,
   "id": "3e05df8f",
   "metadata": {},
   "outputs": [
    {
     "name": "stdout",
     "output_type": "stream",
     "text": [
      "Night fetch at: 2025-07-22 07:35:20.195712+00:00\n",
      "fast_info: 211.26 | history: 212.47999572753906\n",
      "fast_info: 211.26 | history: 212.47999572753906\n"
     ]
    }
   ],
   "source": [
    "import yfinance as yf\n",
    "from datetime import datetime\n",
    "import pytz\n",
    "\n",
    "def fetch_night_close(symbol):\n",
    "    t = yf.Ticker(symbol)\n",
    "    # Method A: quick last close\n",
    "    last_close = t.fast_info.previous_close\n",
    "\n",
    "    # Method B: confirm with history\n",
    "    data = t.history(period=\"1d\", interval=\"1d\")\n",
    "    close_hist = data[\"Close\"].iloc[0]\n",
    "\n",
    "    return last_close, close_hist\n",
    "\n",
    "if __name__ == \"__main__\":\n",
    "    now = datetime.now(pytz.utc)\n",
    "    print(\"Night fetch at:\", now)\n",
    "    closeA, closeB = fetch_night_close(\"AAPL\")\n",
    "    print(\"fast_info:\", closeA, \"| history:\", closeB)"
   ]
  },
  {
   "cell_type": "code",
   "execution_count": null,
   "id": "69d90d1c",
   "metadata": {},
   "outputs": [],
   "source": []
  }
 ],
 "metadata": {
  "kernelspec": {
   "display_name": "roger_trading",
   "language": "python",
   "name": "python3"
  },
  "language_info": {
   "codemirror_mode": {
    "name": "ipython",
    "version": 3
   },
   "file_extension": ".py",
   "mimetype": "text/x-python",
   "name": "python",
   "nbconvert_exporter": "python",
   "pygments_lexer": "ipython3",
   "version": "3.13.2"
  }
 },
 "nbformat": 4,
 "nbformat_minor": 5
}
